{
  "nbformat": 4,
  "nbformat_minor": 0,
  "metadata": {
    "colab": {
      "name": "Revised Digital Poetry.ipynb",
      "provenance": []
    },
    "kernelspec": {
      "name": "python3",
      "display_name": "Python 3"
    },
    "language_info": {
      "name": "python"
    }
  },
  "cells": [
    {
      "cell_type": "code",
      "source": [
        "import random\n",
        "import re\n",
        "from textblob import TextBlob\n",
        "import nltk\n",
        "nltk.download('punkt')\n",
        "\n",
        "with open(\"Pride.txt\") as f:\n",
        "  text = f.read()\n",
        "\n",
        "blob = TextBlob(text)\n",
        "\n",
        "\n",
        "sentences = blob.sentences\n",
        "\n",
        "pro_sents = []\n",
        "\n",
        "for s in sentences:\n",
        "  if (len(s.words) > 0):\n",
        "    if (s.words[0] in [\"She\",\"He\",\"They\",\"We\",\"It\", \"And\", \"Him\", \"Her\"]):\n",
        "      pro_sents.append(s)\n",
        "\n",
        "title = random.choice(blob.words)\n",
        "\n",
        "print(\"\\n\\n\\n\" + title.upper() + \", a poem. \\n\")\n",
        "\n",
        "short_sentences = []\n",
        "for ps in pro_sents:\n",
        "  if (len(ps.words) < 5):\n",
        "    short_sentences.append(ps)\n",
        "\n",
        "random.shuffle(short_sentences)\n",
        "\n",
        "for s in short_sentences[:5]:\n",
        "\n",
        "  s = s.replace(\"\\n\",' ')"
      ],
      "metadata": {
        "colab": {
          "base_uri": "https://localhost:8080/"
        },
        "id": "3YTtDXj3tZRX",
        "outputId": "46c0b6d3-31d3-420f-9c8f-61d6931c22da"
      },
      "execution_count": 43,
      "outputs": [
        {
          "output_type": "stream",
          "name": "stdout",
          "text": [
            "[nltk_data] Downloading package punkt to /root/nltk_data...\n",
            "[nltk_data]   Package punkt is already up-to-date!\n",
            "\n",
            "\n",
            "\n",
            "IMPURITIES, a poem. \n",
            "\n"
          ]
        }
      ]
    },
    {
      "cell_type": "code",
      "source": [
        "  print(s)"
      ],
      "metadata": {
        "colab": {
          "base_uri": "https://localhost:8080/"
        },
        "id": "V9Pyv17MtAtm",
        "outputId": "a1ccb955-7ac2-4b1f-f12e-f2305b2226ed"
      },
      "execution_count": 42,
      "outputs": [
        {
          "output_type": "stream",
          "name": "stdout",
          "text": [
            "He was angry.\n"
          ]
        }
      ]
    }
  ]
}