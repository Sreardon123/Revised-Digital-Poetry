{
  "nbformat": 4,
  "nbformat_minor": 0,
  "metadata": {
    "colab": {
      "name": "Copy of Revised Digital Poetry.ipynb",
      "provenance": []
    },
    "kernelspec": {
      "name": "python3",
      "display_name": "Python 3"
    },
    "language_info": {
      "name": "python"
    }
  },
  "cells": [
    {
      "cell_type": "code",
      "source": [
        "import random\n",
        "import re\n",
        "from textblob import TextBlob\n",
        "import nltk\n",
        "nltk.download('punkt')\n",
        "\n",
        "with open(\"Pride.txt\") as f:\n",
        "  text = f.read()\n",
        "\n",
        "blob = TextBlob(text)\n",
        "\n",
        "\n",
        "sentences = blob.sentences\n",
        "\n",
        "pro_sents = []\n",
        "\n",
        "for s in sentences:\n",
        "  if (len(s.words) > 0):\n",
        "    if (s.words[0] in [\"She\", \"I\", \"Mr.\", \"Mrs.\", \"When\", \"Yes\", \"That\", \"In\", \"The\",\"We\",\"People\", \"Suitor\", \"A\",\"It\",\"And\", \"Them\",\"Him\",\"Her\",\"He\"]):\n",
        "      pro_sents.append(s)\n",
        "\n",
        "title = random.choice(blob.words)\n",
        "\n",
        "print(\"\\n\\n\\n\" + title.upper() + \", a poem. \\n\")\n",
        "\n",
        "short_sentences = []\n",
        "for ps in pro_sents:\n",
        "  if (len(ps.words) < 10):\n",
        "    short_sentences.append(ps)\n",
        "\n",
        "random.shuffle(short_sentences)\n",
        "\n",
        "for s in short_sentences[:5]:\n",
        "\n",
        "  s = s.replace(\"\\n\",' ')\n",
        "\n",
        "  print(s)"
      ],
      "metadata": {
        "colab": {
          "base_uri": "https://localhost:8080/"
        },
        "id": "3YTtDXj3tZRX",
        "outputId": "0b8dfe13-9202-4bdd-a5fb-984f5c1f46e7"
      },
      "execution_count": 7,
      "outputs": [
        {
          "output_type": "stream",
          "name": "stdout",
          "text": [
            "[nltk_data] Downloading package punkt to /root/nltk_data...\n",
            "[nltk_data]   Package punkt is already up-to-date!\n",
            "\n",
            "\n",
            "\n",
            "HEARD, a poem. \n",
            "\n",
            "I can recall nothing worse.\n",
            "I really cannot laugh at it.\n",
            "The room in which the ladies sat was backwards.\n",
            "She will be taken good care of.\n",
            "He bore it, however, with admirable calmness.\n"
          ]
        }
      ]
    }
  ]
}