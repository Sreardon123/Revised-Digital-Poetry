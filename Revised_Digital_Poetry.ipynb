{
  "nbformat": 4,
  "nbformat_minor": 0,
  "metadata": {
    "colab": {
      "name": "Revised Digital Poetry.ipynb",
      "provenance": []
    },
    "kernelspec": {
      "name": "python3",
      "display_name": "Python 3"
    },
    "language_info": {
      "name": "python"
    }
  },
  "cells": [
    {
      "cell_type": "code",
      "source": [
        "# imports\n",
        "import random\n",
        "import re\n",
        "from textblob import TextBlob\n",
        "import nltk\n",
        "nltk.download('punkt')\n",
        "\n",
        "\n",
        "# open the file\n",
        "with open(\"Pride.txt\") as f:\n",
        "  text = f.read()\n",
        "\n",
        "# blobify it\n",
        "blob = TextBlob(text)\n",
        "\n",
        "# get a list of sentences\n",
        "sentences = blob.sentences\n",
        "\n",
        "# create an empty list to store sentences starting with pronouns\n",
        "pro_sents = []\n",
        "\n",
        "for s in sentences:\n",
        "  if (len(s.words) > 0):\n",
        "    if (s.words[0] in [\"She\",\"He\",\"They\",\"We\",\"It\"]):\n",
        "      pro_sents.append(s)\n",
        "\n",
        "# pick a random word for the title\n",
        "title = random.choice(blob.words)\n",
        "\n",
        "# print that title word in all caps\n",
        "\n",
        "# get a list of sentences shorter than some specified length\n",
        "short_sentences = []\n",
        "for ps in pro_sents:\n",
        "  if (len(ps.words) < 5):\n",
        "    short_sentences.append(ps)\n",
        "\n",
        "\n",
        "# shuffle those sentences\n",
        "random.shuffle(short_sentences)\n",
        "\n",
        "for s in short_sentences[:5]:\n",
        "  # remove linebreaks\n",
        "  s = s.replace(\"\\n\",' ')"
      ],
      "metadata": {
        "colab": {
          "base_uri": "https://localhost:8080/"
        },
        "id": "3YTtDXj3tZRX",
        "outputId": "78c8bc23-4780-4485-8fd5-ee2d45e107e6"
      },
      "execution_count": 41,
      "outputs": [
        {
          "output_type": "stream",
          "name": "stdout",
          "text": [
            "[nltk_data] Downloading package punkt to /root/nltk_data...\n",
            "[nltk_data]   Package punkt is already up-to-date!\n"
          ]
        }
      ]
    },
    {
      "cell_type": "code",
      "source": [
        "  print(s)"
      ],
      "metadata": {
        "colab": {
          "base_uri": "https://localhost:8080/"
        },
        "id": "V9Pyv17MtAtm",
        "outputId": "a1ccb955-7ac2-4b1f-f12e-f2305b2226ed"
      },
      "execution_count": 42,
      "outputs": [
        {
          "output_type": "stream",
          "name": "stdout",
          "text": [
            "He was angry.\n"
          ]
        }
      ]
    }
  ]
}